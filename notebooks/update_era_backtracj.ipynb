{
 "cells": [
  {
   "cell_type": "code",
   "execution_count": 9,
   "metadata": {},
   "outputs": [
    {
     "name": "stdout",
     "output_type": "stream",
     "text": [
      "The autoreload extension is already loaded. To reload it, use:\n",
      "  %reload_ext autoreload\n",
      "banana\n"
     ]
    }
   ],
   "source": [
    "import os\n",
    "import sys\n",
    "sys.path.insert(0, os.path.abspath('..'))\n",
    "\n",
    "import glob\n",
    "import matplotlib.pyplot as plt\n",
    "import numpy as np\n",
    "import xarray as xr\n",
    "\n",
    "\n",
    "from uwtrajectory import unified_traj_data as traj\n",
    "from uwtrajectory import config, utils\n",
    "from uwtrajectory.ERA5.add_to_trajectory import add_ERA_ens_to_trajectory, \\\n",
    "    add_ERA_sfc_to_trajectory, add_ERA_to_trajectory, add_advection_to_trajectory\n",
    "\n",
    "%load_ext autoreload\n",
    "%autoreload 2\n",
    "print('banana')"
   ]
  },
  {
   "cell_type": "code",
   "execution_count": null,
   "metadata": {},
   "outputs": [],
   "source": []
  },
  {
   "cell_type": "code",
   "execution_count": 4,
   "metadata": {},
   "outputs": [
    {
     "name": "stdout",
     "output_type": "stream",
     "text": [
      "28\n",
      "0\n"
     ]
    },
    {
     "ename": "KeyError",
     "evalue": "'number'",
     "output_type": "error",
     "traceback": [
      "\u001b[0;31m---------------------------------------------------------------------------\u001b[0m",
      "\u001b[0;31mKeyError\u001b[0m                                  Traceback (most recent call last)",
      "\u001b[0;32m~/anaconda3/envs/classified-cset/lib/python3.7/site-packages/xarray/core/dataset.py\u001b[0m in \u001b[0;36m_construct_dataarray\u001b[0;34m(self, name)\u001b[0m\n\u001b[1;32m   1150\u001b[0m         \u001b[0;32mtry\u001b[0m\u001b[0;34m:\u001b[0m\u001b[0;34m\u001b[0m\u001b[0;34m\u001b[0m\u001b[0m\n\u001b[0;32m-> 1151\u001b[0;31m             \u001b[0mvariable\u001b[0m \u001b[0;34m=\u001b[0m \u001b[0mself\u001b[0m\u001b[0;34m.\u001b[0m\u001b[0m_variables\u001b[0m\u001b[0;34m[\u001b[0m\u001b[0mname\u001b[0m\u001b[0;34m]\u001b[0m\u001b[0;34m\u001b[0m\u001b[0;34m\u001b[0m\u001b[0m\n\u001b[0m\u001b[1;32m   1152\u001b[0m         \u001b[0;32mexcept\u001b[0m \u001b[0mKeyError\u001b[0m\u001b[0;34m:\u001b[0m\u001b[0;34m\u001b[0m\u001b[0;34m\u001b[0m\u001b[0m\n",
      "\u001b[0;31mKeyError\u001b[0m: 'number'",
      "\nDuring handling of the above exception, another exception occurred:\n",
      "\u001b[0;31mKeyError\u001b[0m                                  Traceback (most recent call last)",
      "\u001b[0;32m<ipython-input-4-fd8e0b191e7a>\u001b[0m in \u001b[0;36m<module>\u001b[0;34m\u001b[0m\n\u001b[1;32m      9\u001b[0m \u001b[0;31m#     ds = add_advection_to_trajectory(ds)\u001b[0m\u001b[0;34m\u001b[0m\u001b[0;34m\u001b[0m\u001b[0;34m\u001b[0m\u001b[0m\n\u001b[1;32m     10\u001b[0m \u001b[0;31m#     ds = add_ERA_sfc_to_trajectory(ds)\u001b[0m\u001b[0;34m\u001b[0m\u001b[0;34m\u001b[0m\u001b[0;34m\u001b[0m\u001b[0m\n\u001b[0;32m---> 11\u001b[0;31m     \u001b[0mds\u001b[0m \u001b[0;34m=\u001b[0m \u001b[0madd_ERA_ens_to_trajectory\u001b[0m\u001b[0;34m(\u001b[0m\u001b[0mds\u001b[0m\u001b[0;34m)\u001b[0m\u001b[0;34m\u001b[0m\u001b[0;34m\u001b[0m\u001b[0m\n\u001b[0m\u001b[1;32m     12\u001b[0m     \u001b[0mds\u001b[0m\u001b[0;34m.\u001b[0m\u001b[0mto_netcdf\u001b[0m\u001b[0;34m(\u001b[0m\u001b[0;34mf'/home/disk/eos4/jkcm/Data/CSET/profile_backtrajectories/newer/{os.path.basename(bt)}'\u001b[0m\u001b[0;34m)\u001b[0m\u001b[0;34m\u001b[0m\u001b[0;34m\u001b[0m\u001b[0m\n",
      "\u001b[0;32m~/Code/uw-trajectory/uwtrajectory/ERA5/add_to_trajectory.py\u001b[0m in \u001b[0;36madd_ERA_ens_to_trajectory\u001b[0;34m(ds, box_degrees)\u001b[0m\n\u001b[1;32m     17\u001b[0m     \u001b[0;32mwith\u001b[0m \u001b[0mxr\u001b[0m\u001b[0;34m.\u001b[0m\u001b[0mopen_mfdataset\u001b[0m\u001b[0;34m(\u001b[0m\u001b[0msorted\u001b[0m\u001b[0;34m(\u001b[0m\u001b[0mens_files\u001b[0m\u001b[0;34m)\u001b[0m\u001b[0;34m,\u001b[0m \u001b[0mcombine\u001b[0m\u001b[0;34m=\u001b[0m\u001b[0;34m'by_coords'\u001b[0m\u001b[0;34m)\u001b[0m \u001b[0;32mas\u001b[0m \u001b[0mdata\u001b[0m\u001b[0;34m:\u001b[0m\u001b[0;34m\u001b[0m\u001b[0;34m\u001b[0m\u001b[0m\n\u001b[1;32m     18\u001b[0m \u001b[0;31m#         data = data.rename({'level': 'ens_level'})\u001b[0m\u001b[0;34m\u001b[0m\u001b[0;34m\u001b[0m\u001b[0;34m\u001b[0m\u001b[0m\n\u001b[0;32m---> 19\u001b[0;31m         \u001b[0mds\u001b[0m\u001b[0;34m.\u001b[0m\u001b[0mcoords\u001b[0m\u001b[0;34m[\u001b[0m\u001b[0;34m'number'\u001b[0m\u001b[0;34m]\u001b[0m \u001b[0;34m=\u001b[0m \u001b[0mdata\u001b[0m\u001b[0;34m.\u001b[0m\u001b[0mcoords\u001b[0m\u001b[0;34m[\u001b[0m\u001b[0;34m'number'\u001b[0m\u001b[0;34m]\u001b[0m\u001b[0;34m\u001b[0m\u001b[0;34m\u001b[0m\u001b[0m\n\u001b[0m\u001b[1;32m     20\u001b[0m \u001b[0;31m#         ds.coords['ens_level'] = data.coords['ens_level']\u001b[0m\u001b[0;34m\u001b[0m\u001b[0;34m\u001b[0m\u001b[0;34m\u001b[0m\u001b[0m\n\u001b[1;32m     21\u001b[0m \u001b[0;34m\u001b[0m\u001b[0m\n",
      "\u001b[0;32m~/anaconda3/envs/classified-cset/lib/python3.7/site-packages/xarray/core/coordinates.py\u001b[0m in \u001b[0;36m__getitem__\u001b[0;34m(self, key)\u001b[0m\n\u001b[1;32m    212\u001b[0m         \u001b[0;32mif\u001b[0m \u001b[0mkey\u001b[0m \u001b[0;32min\u001b[0m \u001b[0mself\u001b[0m\u001b[0;34m.\u001b[0m\u001b[0m_data\u001b[0m\u001b[0;34m.\u001b[0m\u001b[0mdata_vars\u001b[0m\u001b[0;34m:\u001b[0m\u001b[0;34m\u001b[0m\u001b[0;34m\u001b[0m\u001b[0m\n\u001b[1;32m    213\u001b[0m             \u001b[0;32mraise\u001b[0m \u001b[0mKeyError\u001b[0m\u001b[0;34m(\u001b[0m\u001b[0mkey\u001b[0m\u001b[0;34m)\u001b[0m\u001b[0;34m\u001b[0m\u001b[0;34m\u001b[0m\u001b[0m\n\u001b[0;32m--> 214\u001b[0;31m         \u001b[0;32mreturn\u001b[0m \u001b[0mcast\u001b[0m\u001b[0;34m(\u001b[0m\u001b[0;34m\"DataArray\"\u001b[0m\u001b[0;34m,\u001b[0m \u001b[0mself\u001b[0m\u001b[0;34m.\u001b[0m\u001b[0m_data\u001b[0m\u001b[0;34m[\u001b[0m\u001b[0mkey\u001b[0m\u001b[0;34m]\u001b[0m\u001b[0;34m)\u001b[0m\u001b[0;34m\u001b[0m\u001b[0;34m\u001b[0m\u001b[0m\n\u001b[0m\u001b[1;32m    215\u001b[0m \u001b[0;34m\u001b[0m\u001b[0m\n\u001b[1;32m    216\u001b[0m     \u001b[0;32mdef\u001b[0m \u001b[0mto_dataset\u001b[0m\u001b[0;34m(\u001b[0m\u001b[0mself\u001b[0m\u001b[0;34m)\u001b[0m \u001b[0;34m->\u001b[0m \u001b[0;34m\"Dataset\"\u001b[0m\u001b[0;34m:\u001b[0m\u001b[0;34m\u001b[0m\u001b[0;34m\u001b[0m\u001b[0m\n",
      "\u001b[0;32m~/anaconda3/envs/classified-cset/lib/python3.7/site-packages/xarray/core/dataset.py\u001b[0m in \u001b[0;36m__getitem__\u001b[0;34m(self, key)\u001b[0m\n\u001b[1;32m   1241\u001b[0m \u001b[0;34m\u001b[0m\u001b[0m\n\u001b[1;32m   1242\u001b[0m         \u001b[0;32mif\u001b[0m \u001b[0mhashable\u001b[0m\u001b[0;34m(\u001b[0m\u001b[0mkey\u001b[0m\u001b[0;34m)\u001b[0m\u001b[0;34m:\u001b[0m\u001b[0;34m\u001b[0m\u001b[0;34m\u001b[0m\u001b[0m\n\u001b[0;32m-> 1243\u001b[0;31m             \u001b[0;32mreturn\u001b[0m \u001b[0mself\u001b[0m\u001b[0;34m.\u001b[0m\u001b[0m_construct_dataarray\u001b[0m\u001b[0;34m(\u001b[0m\u001b[0mkey\u001b[0m\u001b[0;34m)\u001b[0m\u001b[0;34m\u001b[0m\u001b[0;34m\u001b[0m\u001b[0m\n\u001b[0m\u001b[1;32m   1244\u001b[0m         \u001b[0;32melse\u001b[0m\u001b[0;34m:\u001b[0m\u001b[0;34m\u001b[0m\u001b[0;34m\u001b[0m\u001b[0m\n\u001b[1;32m   1245\u001b[0m             \u001b[0;32mreturn\u001b[0m \u001b[0mself\u001b[0m\u001b[0;34m.\u001b[0m\u001b[0m_copy_listed\u001b[0m\u001b[0;34m(\u001b[0m\u001b[0mnp\u001b[0m\u001b[0;34m.\u001b[0m\u001b[0masarray\u001b[0m\u001b[0;34m(\u001b[0m\u001b[0mkey\u001b[0m\u001b[0;34m)\u001b[0m\u001b[0;34m)\u001b[0m\u001b[0;34m\u001b[0m\u001b[0;34m\u001b[0m\u001b[0m\n",
      "\u001b[0;32m~/anaconda3/envs/classified-cset/lib/python3.7/site-packages/xarray/core/dataset.py\u001b[0m in \u001b[0;36m_construct_dataarray\u001b[0;34m(self, name)\u001b[0m\n\u001b[1;32m   1152\u001b[0m         \u001b[0;32mexcept\u001b[0m \u001b[0mKeyError\u001b[0m\u001b[0;34m:\u001b[0m\u001b[0;34m\u001b[0m\u001b[0;34m\u001b[0m\u001b[0m\n\u001b[1;32m   1153\u001b[0m             _, name, variable = _get_virtual_variable(\n\u001b[0;32m-> 1154\u001b[0;31m                 \u001b[0mself\u001b[0m\u001b[0;34m.\u001b[0m\u001b[0m_variables\u001b[0m\u001b[0;34m,\u001b[0m \u001b[0mname\u001b[0m\u001b[0;34m,\u001b[0m \u001b[0mself\u001b[0m\u001b[0;34m.\u001b[0m\u001b[0m_level_coords\u001b[0m\u001b[0;34m,\u001b[0m \u001b[0mself\u001b[0m\u001b[0;34m.\u001b[0m\u001b[0mdims\u001b[0m\u001b[0;34m\u001b[0m\u001b[0;34m\u001b[0m\u001b[0m\n\u001b[0m\u001b[1;32m   1155\u001b[0m             )\n\u001b[1;32m   1156\u001b[0m \u001b[0;34m\u001b[0m\u001b[0m\n",
      "\u001b[0;32m~/anaconda3/envs/classified-cset/lib/python3.7/site-packages/xarray/core/dataset.py\u001b[0m in \u001b[0;36m_get_virtual_variable\u001b[0;34m(variables, key, level_vars, dim_sizes)\u001b[0m\n\u001b[1;32m    144\u001b[0m         \u001b[0mref_var\u001b[0m \u001b[0;34m=\u001b[0m \u001b[0mdim_var\u001b[0m\u001b[0;34m.\u001b[0m\u001b[0mto_index_variable\u001b[0m\u001b[0;34m(\u001b[0m\u001b[0;34m)\u001b[0m\u001b[0;34m.\u001b[0m\u001b[0mget_level_variable\u001b[0m\u001b[0;34m(\u001b[0m\u001b[0mref_name\u001b[0m\u001b[0;34m)\u001b[0m\u001b[0;34m\u001b[0m\u001b[0;34m\u001b[0m\u001b[0m\n\u001b[1;32m    145\u001b[0m     \u001b[0;32melse\u001b[0m\u001b[0;34m:\u001b[0m\u001b[0;34m\u001b[0m\u001b[0;34m\u001b[0m\u001b[0m\n\u001b[0;32m--> 146\u001b[0;31m         \u001b[0mref_var\u001b[0m \u001b[0;34m=\u001b[0m \u001b[0mvariables\u001b[0m\u001b[0;34m[\u001b[0m\u001b[0mref_name\u001b[0m\u001b[0;34m]\u001b[0m\u001b[0;34m\u001b[0m\u001b[0;34m\u001b[0m\u001b[0m\n\u001b[0m\u001b[1;32m    147\u001b[0m \u001b[0;34m\u001b[0m\u001b[0m\n\u001b[1;32m    148\u001b[0m     \u001b[0;32mif\u001b[0m \u001b[0mvar_name\u001b[0m \u001b[0;32mis\u001b[0m \u001b[0;32mNone\u001b[0m\u001b[0;34m:\u001b[0m\u001b[0;34m\u001b[0m\u001b[0;34m\u001b[0m\u001b[0m\n",
      "\u001b[0;31mKeyError\u001b[0m: 'number'"
     ]
    }
   ],
   "source": [
    "\n",
    "backtraj_files = sorted(glob.glob('/home/disk/eos4/jkcm/Data/CSET/profile_backtrajectories/new/profile_backtraj_*.nc'))\n",
    "print(len(backtraj_files))\n",
    "for i, bt in enumerate(backtraj_files):\n",
    "    print(i)\n",
    "    ds = xr.open_dataset(bt)\n",
    "#     era_vars = [i for i in ds.data_vars.keys() if 'ERA_' in i] + ['level', 'ens_level']\n",
    "#     ds = ds.drop(era_vars)\n",
    "#     ds = add_ERA_to_trajectory(ds)\n",
    "#     ds = add_advection_to_trajectory(ds)\n",
    "#     ds = add_ERA_sfc_to_trajectory(ds)\n",
    "    ds = add_ERA_ens_to_trajectory(ds)\n",
    "    ds.to_netcdf(f'/home/disk/eos4/jkcm/Data/CSET/profile_backtrajectories/newer/{os.path.basename(bt)}')"
   ]
  },
  {
   "cell_type": "code",
   "execution_count": 11,
   "metadata": {},
   "outputs": [],
   "source": [
    "    \n",
    "    lats, lons, times = ds.lat.values, ds.lon.values, ds.time.values\n",
    "#     space_index = int(np.round(box_degrees/0.25/2)) # go up/down/left/right this many pixels\n",
    "    \n",
    "    \n",
    "    unique_days = set([utils.as_datetime(i).date() for i in times])\n",
    "    ens_files = [os.path.join(config.ERA_ens_source, config.ERA_ens_fmt.format(i)) for i in unique_days]\n",
    "    data = xr.open_mfdataset(sorted(ens_files), combine='by_coords')\n"
   ]
  },
  {
   "cell_type": "code",
   "execution_count": 15,
   "metadata": {},
   "outputs": [
    {
     "data": {
      "text/plain": [
       "<xarray.DataArray 'cc' (time: 24, level: 37, latitude: 121, longitude: 101)>\n",
       "dask.array<concatenate, shape=(24, 37, 121, 101), dtype=float32, chunksize=(8, 37, 121, 101), chunktype=numpy.ndarray>\n",
       "Coordinates:\n",
       "  * longitude  (longitude) float32 -160.0 -159.5 -159.0 ... -111.0 -110.5 -110.0\n",
       "  * latitude   (latitude) float32 60.0 59.5 59.0 58.5 58.0 ... 1.5 1.0 0.5 0.0\n",
       "  * level      (level) float64 1.0 2.0 3.0 5.0 7.0 ... 925.0 950.0 975.0 1e+03\n",
       "  * time       (time) datetime64[ns] 2015-07-05 ... 2015-07-07T21:00:00\n",
       "Attributes:\n",
       "    long_name:  Fraction of cloud cover\n",
       "    units:      (0 - 1)"
      ]
     },
     "execution_count": 15,
     "metadata": {},
     "output_type": "execute_result"
    }
   ],
   "source": [
    "data.cc"
   ]
  },
  {
   "cell_type": "code",
   "execution_count": 30,
   "metadata": {},
   "outputs": [],
   "source": [
    "ds = xr.open_dataset(backtraj_files[0])\n",
    "era_vars = [i for i in ds.data_vars.keys() if 'ERA_' in i] + ['level', 'ens_level']\n",
    "ds = ds.drop(era_vars)"
   ]
  },
  {
   "cell_type": "code",
   "execution_count": 31,
   "metadata": {},
   "outputs": [
    {
     "data": {
      "text/plain": [
       "<xarray.Dataset>\n",
       "Dimensions:                                     (AMSR_prcp_pctile: 9, lev: 72, number: 10, time: 49)\n",
       "Coordinates:\n",
       "  * time                                        (time) datetime64[ns] 2015-07-05T15:00:00 ... 2015-07-07T15:00:00\n",
       "  * number                                      (number) int32 0 1 2 3 ... 7 8 9\n",
       "  * lev                                         (lev) float64 0.01 ... 985.0\n",
       "  * AMSR_prcp_pctile                            (AMSR_prcp_pctile) float64 10.0 ... 90.0\n",
       "Data variables:\n",
       "    fhour                                       (time) timedelta64[ns] ...\n",
       "    lat                                         (time) float64 ...\n",
       "    lon                                         (time) float64 ...\n",
       "    height                                      (time) float64 ...\n",
       "    pres                                        (time) float64 ...\n",
       "    traj_u                                      (time) float64 ...\n",
       "    traj_v                                      (time) float64 ...\n",
       "    traj_hdg                                    (time) float64 ...\n",
       "    traj_spd                                    (time) float64 ...\n",
       "    MODIS_CTH                                   (time) float64 ...\n",
       "    MODIS_CTH_median                            (time) float64 ...\n",
       "    MODIS_CTH_std                               (time) float64 ...\n",
       "    MODIS_CTH_min                               (time) float64 ...\n",
       "    MODIS_CTH_max                               (time) float64 ...\n",
       "    MODIS_CTH_nanfrac                           (time) float64 ...\n",
       "    MODIS_CTH_n_samples                         (time) float64 ...\n",
       "    MERRA_Na_tot                                (time, lev) float64 ...\n",
       "    MERRA_Na_tot_corr                           (time, lev) float64 ...\n",
       "    MERRA_H                                     (time, lev) float64 ...\n",
       "    MERRA_PL                                    (time, lev) float64 ...\n",
       "    MERRA_RH                                    (time, lev) float64 ...\n",
       "    MERRA_AIRDENS                               (time, lev) float64 ...\n",
       "    MERRA_OCPHILIC                              (time, lev) float64 ...\n",
       "    MERRA_OCPHOBIC                              (time, lev) float64 ...\n",
       "    MERRA_BCPHILIC                              (time, lev) float64 ...\n",
       "    MERRA_BCPHOBIC                              (time, lev) float64 ...\n",
       "    MERRA_SO4                                   (time, lev) float64 ...\n",
       "    MERRA_DU001                                 (time, lev) float64 ...\n",
       "    MERRA_DU002                                 (time, lev) float64 ...\n",
       "    MERRA_DU003                                 (time, lev) float64 ...\n",
       "    MERRA_DU004                                 (time, lev) float64 ...\n",
       "    MERRA_DU005                                 (time, lev) float64 ...\n",
       "    MERRA_SS001                                 (time, lev) float64 ...\n",
       "    MERRA_SS002                                 (time, lev) float64 ...\n",
       "    MERRA_SS003                                 (time, lev) float64 ...\n",
       "    MERRA_SS004                                 (time, lev) float64 ...\n",
       "    MERRA_SS005                                 (time, lev) float64 ...\n",
       "    MERRA_OCPHILIC_Na                           (time, lev) float64 ...\n",
       "    MERRA_OCPHOBIC_Na                           (time, lev) float64 ...\n",
       "    MERRA_BCPHILIC_Na                           (time, lev) float64 ...\n",
       "    MERRA_BCPHOBIC_Na                           (time, lev) float64 ...\n",
       "    MERRA_SO4_Na                                (time, lev) float64 ...\n",
       "    MERRA_DU001_Na                              (time, lev) float64 ...\n",
       "    MERRA_DU002_Na                              (time, lev) float64 ...\n",
       "    MERRA_DU003_Na                              (time, lev) float64 ...\n",
       "    MERRA_DU004_Na                              (time, lev) float64 ...\n",
       "    MERRA_DU005_Na                              (time, lev) float64 ...\n",
       "    MERRA_SS001_Na                              (time, lev) float64 ...\n",
       "    MERRA_SS002_Na                              (time, lev) float64 ...\n",
       "    MERRA_SS003_Na                              (time, lev) float64 ...\n",
       "    MERRA_SS004_Na                              (time, lev) float64 ...\n",
       "    MERRA_SS005_Na                              (time, lev) float64 ...\n",
       "    MERRA_Na_tot_mass                           (time, lev) float64 ...\n",
       "    MERRA_OCPHILIC_n0                           (time, lev) float64 ...\n",
       "    MERRA_OCPHOBIC_n0                           (time, lev) float64 ...\n",
       "    MERRA_BCPHILIC_n0                           (time, lev) float64 ...\n",
       "    MERRA_BCPHOBIC_n0                           (time, lev) float64 ...\n",
       "    MERRA_SO4_n0                                (time, lev) float64 ...\n",
       "    MERRA_acc_mass                              (time, lev) float64 ...\n",
       "    MERRA_akn_mass                              (time, lev) float64 ...\n",
       "    MERRA_crs_mass                              (time, lev) float64 ...\n",
       "    MERRA_acc_num                               (time, lev) float64 ...\n",
       "    SSMI_LWP                                    (time) float64 ...\n",
       "    SSMI_LWP_std                                (time) float64 ...\n",
       "    SSMI_WVP                                    (time) float64 ...\n",
       "    SSMI_VWP_std                                (time) float64 ...\n",
       "    SSMI_WSPD                                   (time) float64 ...\n",
       "    SSMI_WSPD_std                               (time) float64 ...\n",
       "    SSMI_n_samples                              (time) float64 ...\n",
       "    SSMI_n_total                                (time) float64 ...\n",
       "    CERES_toa_sw_all_1h                         (time) float32 ...\n",
       "    CERES_toa_sw_all_1h_std                     (time) float32 ...\n",
       "    CERES_toa_sw_clr_1h                         (time) float32 ...\n",
       "    CERES_toa_sw_clr_1h_std                     (time) float32 ...\n",
       "    CERES_toa_lw_all_1h                         (time) float32 ...\n",
       "    CERES_toa_lw_all_1h_std                     (time) float32 ...\n",
       "    CERES_toa_lw_clr_1h                         (time) float32 ...\n",
       "    CERES_toa_lw_clr_1h_std                     (time) float32 ...\n",
       "    CERES_lw_cre                                (time) float32 ...\n",
       "    CERES_lw_cre_std                            (time) float32 ...\n",
       "    CERES_sw_cre                                (time) float32 ...\n",
       "    CERES_sw_cre_std                            (time) float32 ...\n",
       "    CERES_net_cre                               (time) float32 ...\n",
       "    CERES_net_cre_std                           (time) float32 ...\n",
       "    CERES_toa_solar_all_1h                      (time) float32 ...\n",
       "    CERES_toa_solar_all_1h_std                  (time) float32 ...\n",
       "    CERES_cldarea_low_1h                        (time) float32 ...\n",
       "    CERES_cldarea_low_1h_std                    (time) float32 ...\n",
       "    CERES_cldtau_low_1h                         (time) float32 ...\n",
       "    CERES_cldtau_low_1h_std                     (time) float32 ...\n",
       "    CERES_lwp_low_1h                            (time) float32 ...\n",
       "    CERES_lwp_low_1h_std                        (time) float32 ...\n",
       "    CERES_solar_zen_angle_1h                    (time) float32 ...\n",
       "    CERES_solar_zen_angle_1h_std                (time) float32 ...\n",
       "    CERES_cldwatrad_low_1h                      (time) float32 ...\n",
       "    CERES_cldwatrad_low_1h_std                  (time) float32 ...\n",
       "    CERES_adj_atmos_sw_down_all_surface_1h      (time) float32 ...\n",
       "    CERES_adj_atmos_sw_down_all_surface_1h_std  (time) float32 ...\n",
       "    CERES_adj_atmos_sw_up_all_surface_1h        (time) float32 ...\n",
       "    CERES_adj_atmos_sw_up_all_surface_1h_std    (time) float32 ...\n",
       "    CERES_adj_atmos_lw_down_all_surface_1h      (time) float32 ...\n",
       "    CERES_adj_atmos_lw_down_all_surface_1h_std  (time) float32 ...\n",
       "    CERES_adj_atmos_lw_up_all_surface_1h        (time) float32 ...\n",
       "    CERES_adj_atmos_lw_up_all_surface_1h_std    (time) float32 ...\n",
       "    CERES_Nd                                    (time) float32 ...\n",
       "    AMSR_prcp_mean                              (time) float64 ...\n",
       "    AMSR_prcp_std                               (time) float64 ...\n",
       "    AMSR_prcp_n_samples                         (time) float64 ...\n",
       "    AMSR_prcp_dist                              (time, AMSR_prcp_pctile) float64 ...\n",
       "    AMSR_CWV                                    (time) float64 ...\n",
       "    AMSR_CWV_std                                (time) float64 ...\n",
       "    AMSR_CWV_nsamples                           (time) float64 ...\n",
       "    AMSR_LWP                                    (time) float64 ...\n",
       "    AMSR_LWP_std                                (time) float64 ...\n",
       "    AMSR_LWP_nsamples                           (time) float64 ...\n",
       "    AMSR_SST                                    (time) float64 ...\n",
       "    AMSR_SST_std                                (time) float64 ...\n",
       "    AMSR_SST_nsamples                           (time) float64 ...\n",
       "Attributes:\n",
       "    Title:              CSET Unified Trajectory Product\n",
       "    institution:        Department of Atmospheric Sciences, University of Was...\n",
       "    contact:            jkcm@uw.edu\n",
       "    trajectory_setup:   Trajectories were run isobarically from an initializa...\n",
       "    HYSPLIT_params:     Trajectories run using HYSPLIT (Hybrid Single Particl...\n",
       "    HYSPLIT_reference:  Stein, A.F., Draxler, R.R, Rolph, G.D., Stunder, B.J....\n",
       "    ERA_params:         ERA5 data acquired from ECWMF Copernicus at cds.clima...\n",
       "    ERA_reference:      Copernicus Climate Change Service (C3S) (2017): ERA5:...\n",
       "    MODIS_params:       MODIS Aqua cloud-top height from Eastman et al. (2017...\n",
       "    MODIS_reference:    Eastman, R., Wood, R., & O, K. T. (2017). The Subtrop...\n",
       "    MERRA_params:       MERRA-2 data primarily downloaded from NASA GMAO, and...\n",
       "    MERRA_reference:    MERRA-2 data available at https://gmao.gsfc.nasa.gov/...\n",
       "    SSMI_params:        SSM/I data added from satellites F15, F16, F17, F18; ...\n",
       "    SSMI_reference:     SSM/I and SSMIS data are produced by Remote Sensing S...\n",
       "    CERES_params:       CERES data is from SYN1deg hourly product; statistics...\n",
       "    CERES_reference:    CERES data available from NASA LARC at ceres.larc.nas...\n",
       "    AMSR_params:        AMSR data statistics computed over a 2-deg average ce...\n",
       "    AMSR_reference:     AMSR precipitation is derived from 89 GHz brightness ...\n",
       "    AMSR2_params:       AMSR2 statistics computed over a 2-deg average center...\n",
       "    AMSR2_reference:    AMSR2 data are produced by Remote Sensing Systems. Da..."
      ]
     },
     "execution_count": 31,
     "metadata": {},
     "output_type": "execute_result"
    }
   ],
   "source": [
    "ds"
   ]
  },
  {
   "cell_type": "code",
   "execution_count": 16,
   "metadata": {},
   "outputs": [
    {
     "data": {
      "text/plain": [
       "[<matplotlib.lines.Line2D at 0x7f1280096210>]"
      ]
     },
     "execution_count": 16,
     "metadata": {},
     "output_type": "execute_result"
    },
    {
     "data": {
      "image/png": "[encoded data removed]",
      "text/plain": [
       "<Figure size 600x400 with 1 Axes>"
      ]
     },
     "metadata": {
      "needs_background": "light"
     },
     "output_type": "display_data"
    }
   ],
   "source": [
    "plt.plot(ds.ERA_slhf.values/3600, ds.ERA_ie.values)"
   ]
  },
  {
   "cell_type": "code",
   "execution_count": 17,
   "metadata": {},
   "outputs": [
    {
     "data": {
      "text/plain": [
       "<xarray.DataArray 'ERA_ie' (time: 49)>\n",
       "array([-2.724488e-05, -2.594692e-05, -2.421897e-05, -2.424343e-05,\n",
       "       -2.393070e-05, -2.298568e-05, -2.282879e-05, -2.205343e-05,\n",
       "       -2.204844e-05, -2.181567e-05, -2.234425e-05, -2.329199e-05,\n",
       "       -2.484631e-05, -2.503495e-05, -2.594303e-05, -2.658411e-05,\n",
       "       -3.056368e-05, -2.974617e-05, -2.957596e-05, -2.946133e-05,\n",
       "       -2.952939e-05, -3.002301e-05, -3.167895e-05, -3.228680e-05,\n",
       "       -3.331551e-05, -3.377781e-05, -3.550853e-05, -3.747256e-05,\n",
       "       -4.128512e-05, -4.199910e-05, -4.326945e-05, -4.486034e-05,\n",
       "       -4.567503e-05, -4.568280e-05, -4.633157e-05, -4.655214e-05,\n",
       "       -4.819564e-05, -4.726168e-05, -4.685052e-05, -4.383290e-05,\n",
       "       -3.916504e-05, -3.806198e-05, -3.913801e-05, -4.097628e-05,\n",
       "       -4.109895e-05, -4.261887e-05, -4.453830e-05, -4.561173e-05,\n",
       "       -4.708036e-05])\n",
       "Coordinates:\n",
       "  * time     (time) datetime64[ns] 2015-08-05T18:00:00 ... 2015-08-07T18:00:00\n",
       "Attributes:\n",
       "    units:      kg m**-2 s**-1\n",
       "    long_name:  Instantaneous moisture flux"
      ]
     },
     "execution_count": 17,
     "metadata": {},
     "output_type": "execute_result"
    }
   ],
   "source": [
    "ds.ERA_ie"
   ]
  },
  {
   "cell_type": "code",
   "execution_count": null,
   "metadata": {},
   "outputs": [],
   "source": []
  }
 ],
 "metadata": {
  "kernelspec": {
   "display_name": "Python [conda env:classified-cset]",
   "language": "python",
   "name": "conda-env-classified-cset-py"
  },
  "language_info": {
   "codemirror_mode": {
    "name": "ipython",
    "version": 3
   },
   "file_extension": ".py",
   "mimetype": "text/x-python",
   "name": "python",
   "nbconvert_exporter": "python",
   "pygments_lexer": "ipython3",
   "version": "3.7.6"
  }
 },
 "nbformat": 4,
 "nbformat_minor": 4
}
