{
 "cells": [
  {
   "cell_type": "code",
   "execution_count": 8,
   "id": "b0806f49-e266-4bff-855a-e682ed790357",
   "metadata": {},
   "outputs": [],
   "source": [
    "#all_MERRA_Na"
   ]
  },
  {
   "cell_type": "code",
   "execution_count": 6,
   "id": "5436a220-826b-4bc6-8abb-cab1ce076d55",
   "metadata": {},
   "outputs": [],
   "source": [
    "import os\n",
    "import sys\n",
    "sys.path.insert(0, os.path.abspath('..'))\n",
    "\n",
    "\n",
    "import xarray as xr\n",
    "import pickle\n",
    "import matplotlib.pyplot as plt\n",
    "import numpy as np\n",
    "import pandas as pd\n",
    "\n",
    "from uwtrajectory import config, utils\n",
    "from uwtrajectory.MERRA2.add_to_trajectory import"
   ]
  },
  {
   "cell_type": "code",
   "execution_count": 7,
   "id": "ebdc7a6e-bd02-4629-8502-8dfe96993917",
   "metadata": {},
   "outputs": [],
   "source": [
    "CSET_MERRA_data = xr.open_mfdataset(\n",
    "    '/home/disk/eos4/jkcm/Data/MERRA/3h/more_vertical/MERRA2_400.inst3_3d_aer_Nv.*.nc4.nc4', combine='by_coords')"
   ]
  },
  {
   "cell_type": "code",
   "execution_count": null,
   "id": "22c252c6-e8e7-421f-81f3-5ac05c2566d5",
   "metadata": {},
   "outputs": [],
   "source": [
    "\n",
    "\n",
    "\n",
    "\n",
    "\n",
    "            num=les_utils.mass_to_number(mass=var, air_density=merra_data.AIRDENS.values, shape_params=params)\n",
    "\n",
    "            na_tot = na_tot+num\n",
    "            merra_data[varname+'_Na'] = (('time', 'lev', 'lat', 'lon'), num)\n",
    "            new_vals.append(varname+'_Na')\n",
    "        merra_data['Na_tot'] = (('time', 'lev', 'lat', 'lon'), na_tot, {'long_name': 'total aerosol number concentration, >100 um', 'units': 'cm**-3'})\n",
    "\n",
    "        merra_data['Na_tot_corr'] = (('time', 'lev', 'lat', 'lon'), np.exp(1.24*np.log(na_tot) + 0.18), {'long_name': 'total aerosol number concentration, >100 um, corrected to aircraft', 'units': 'cm**-3'})  \n",
    "        merra_data['Na_tot_corr_BL_logfit'] = (('time', 'lev', 'lat', 'lon'), np.exp(0.63*np.log(na_tot) + 2.42), {'long_name': 'total aerosol number concentration, >100 um, corrected to aircraft (boundary layer obs only)', 'units': 'cm**-3'})  "
   ]
  }
 ],
 "metadata": {
  "kernelspec": {
   "display_name": "Python [conda env:classified-cset]",
   "language": "python",
   "name": "conda-env-classified-cset-py"
  },
  "language_info": {
   "codemirror_mode": {
    "name": "ipython",
    "version": 3
   },
   "file_extension": ".py",
   "mimetype": "text/x-python",
   "name": "python",
   "nbconvert_exporter": "python",
   "pygments_lexer": "ipython3",
   "version": "3.7.6"
  }
 },
 "nbformat": 4,
 "nbformat_minor": 5
}
