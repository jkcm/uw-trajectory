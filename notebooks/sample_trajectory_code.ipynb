{
 "cells": [
  {
   "cell_type": "code",
   "execution_count": 39,
   "id": "e1427314-deab-47d8-a9d0-105483ead3b1",
   "metadata": {},
   "outputs": [
    {
     "name": "stdout",
     "output_type": "stream",
     "text": [
      "The autoreload extension is already loaded. To reload it, use:\n",
      "  %reload_ext autoreload\n"
     ]
    }
   ],
   "source": [
    "import os\n",
    "import sys\n",
    "sys.path.insert(0, os.path.abspath('..'))\n",
    "from uwtrajectory import unified_traj_data as utd\n",
    "from uwtrajectory.ERA5.add_to_trajectory import add_ERA_to_trajectory\n",
    "import matplotlib.pyplot as plt\n",
    "%load_ext autoreload\n",
    "%autoreload 2"
   ]
  },
  {
   "cell_type": "code",
   "execution_count": 40,
   "id": "cdd4e10d-e436-4b78-bf66-5ba707145fd0",
   "metadata": {},
   "outputs": [
    {
     "data": {
      "text/plain": [
       "<xarray.Dataset>\n",
       "Dimensions:  (time: 49)\n",
       "Coordinates:\n",
       "  * time     (time) datetime64[ns] 2015-07-15T16:00:00 ... 2015-07-17T16:00:00\n",
       "Data variables:\n",
       "    fhour    (time) int64 2 1 0 1 2 3 2 1 0 1 2 3 2 ... 1 0 1 2 3 2 1 0 1 2 3 2\n",
       "    lat      (time) float64 48.86 49.15 49.43 49.69 ... 41.64 41.06 40.47 39.86\n",
       "    lon      (time) float64 -150.7 -149.7 -148.7 -147.7 ... -129.7 -130.0 -130.3\n",
       "    height   (time) float64 896.8 896.7 903.3 904.7 ... 999.7 1.005e+03 1e+03\n",
       "    pres     (time) float64 911.5 911.2 910.3 910.7 ... 909.0 908.4 906.9 907.8\n",
       "Attributes:\n",
       "    Title:              CSET Unified Trajectory Product\n",
       "    institution:        Department of Atmospheric Sciences, University of Was...\n",
       "    contact:            jkcm@uw.edu\n",
       "    Creation Time:      2021-10-22 01:22:36.906634\n",
       "    trajectory_setup:   Trajectories were run isobarically from an initializa...\n",
       "    HYSPLIT_params:     Trajectories run using HYSPLIT (Hybrid Single Particl...\n",
       "    HYSPLIT_reference:  Stein, A.F., Draxler, R.R, Rolph, G.D., Stunder, B.J...."
      ]
     },
     "execution_count": 40,
     "metadata": {},
     "output_type": "execute_result"
    }
   ],
   "source": [
    "sample_trajectory_file = 'sample_trajectory' #happens to be in this directory\n",
    "ds = utd.xarray_from_tdumpfile(sample_trajectory_file)\n",
    "ds"
   ]
  },
  {
   "cell_type": "markdown",
   "id": "13ff0992-3a59-4840-821e-a65f81214c21",
   "metadata": {},
   "source": [
    "### Note that the above is just a quick way to get a trajectory file for a demo. all ds has to contain for the rest of the code to work is a \"time\" dimension and two variables: lat and lon.\n",
    "\n",
    "There are two ways to add ERA data; from within the unified_traj_data method (useful if adding other datasets as well), or separately using add_ERA_to_trajectory (more straightforward)"
   ]
  },
  {
   "cell_type": "code",
   "execution_count": 41,
   "id": "d9bc309d-d758-4dac-945a-6d40e7e5db1f",
   "metadata": {},
   "outputs": [
    {
     "name": "stdout",
     "output_type": "stream",
     "text": [
      "prepping data...\n",
      "creating gradient in MR...\n",
      "done\n",
      "working on cc...\n",
      "100.00%      ETA 18:22:44      time left: 0 seconds        \n",
      "working on z...\n",
      "100.00%      ETA 18:22:45      time left: 0 seconds        \n",
      "working on o3...\n",
      "100.00%      ETA 18:22:45      time left: 0 seconds        \n",
      "working on r...\n",
      "100.00%      ETA 18:22:46      time left: 0 seconds        \n",
      "working on clwc...\n",
      "100.00%      ETA 18:22:46      time left: 0 seconds        \n",
      "working on crwc...\n",
      "100.00%      ETA 18:22:46      time left: 0 seconds        \n",
      "working on t...\n",
      "100.00%      ETA 18:22:47      time left: 0 seconds        \n",
      "working on u...\n",
      "100.00%      ETA 18:22:47      time left: 0 seconds        \n",
      "working on v...\n",
      "100.00%      ETA 18:22:48      time left: 0 seconds        \n",
      "working on w...\n",
      "100.00%      ETA 18:22:48      time left: 0 seconds        \n",
      "working on q...\n",
      "100.00%      ETA 18:22:48      time left: 0 seconds         \n",
      "working on MR...\n",
      "100.00%      ETA 18:22:49      time left: 0 seconds        \n",
      "working on dtdx...\n",
      "100.00%      ETA 18:22:49      time left: 0 seconds        \n",
      "working on dtdy...\n",
      "100.00%      ETA 18:22:49      time left: 0 seconds        \n",
      "working on dqdx...\n",
      "100.00%      ETA 18:22:50      time left: 0 seconds             \n",
      "working on dqdy...\n",
      "100.00%      ETA 18:22:50      time left: 0 seconds          \n",
      "working on dzdx...\n",
      "100.00%      ETA 18:22:50      time left: 0 seconds        \n",
      "working on dzdy...\n",
      "100.00%      ETA 18:22:51      time left: 0 seconds             \n",
      "working on dudx...\n",
      "100.00%      ETA 18:22:51      time left: 0 seconds                  \n",
      "working on dudy...\n",
      "100.00%      ETA 18:22:51      time left: 0 seconds         \n",
      "working on dvdx...\n",
      "100.00%      ETA 18:22:52      time left: 0 seconds                \n",
      "working on dvdy...\n",
      "100.00%      ETA 18:22:52      time left: 0 seconds                 \n",
      "working on dMRdx...\n",
      "100.00%      ETA 18:22:52      time left: 0 seconds                \n",
      "working on dMRdy...\n",
      "100.00%      ETA 18:22:53      time left: 0 seconds           \n"
     ]
    }
   ],
   "source": [
    "#just using add_ERA_to_trajectory:\n",
    "ds = add_ERA_to_trajectory(ds, box_degrees=2)"
   ]
  },
  {
   "cell_type": "code",
   "execution_count": 42,
   "id": "7cbcb0a0-945b-4285-881c-fa7a8b59bcd5",
   "metadata": {},
   "outputs": [],
   "source": [
    "# #doing it using unified_traj_data, also including ERA_sfc; this could also be done as after add_ERA_to_trajectory (just import and call add_ERA_sfc_to_trajectory as well),\n",
    "# all_datasets = utd.all_datasets\n",
    "# print(all_datasets)\n",
    "# datasets_to_include = ['ERA', 'ERA_sfc'] #just doing these for now\n",
    "# ds = utd.make_trajectory(ds, skip=[i for i in all_datasets if not i in datasets_to_include])"
   ]
  },
  {
   "cell_type": "code",
   "execution_count": 43,
   "id": "a29d2635-0a6f-47dd-8be3-02d58a8f2503",
   "metadata": {},
   "outputs": [
    {
     "data": {
      "text/plain": [
       "<xarray.Dataset>\n",
       "Dimensions:    (level: 37, time: 49)\n",
       "Coordinates:\n",
       "  * time       (time) datetime64[ns] 2015-07-15T16:00:00 ... 2015-07-17T16:00:00\n",
       "  * level      (level) float64 1.0 2.0 3.0 5.0 7.0 ... 925.0 950.0 975.0 1e+03\n",
       "Data variables:\n",
       "    fhour      (time) int64 2 1 0 1 2 3 2 1 0 1 2 3 ... 1 0 1 2 3 2 1 0 1 2 3 2\n",
       "    lat        (time) float64 48.86 49.15 49.43 49.69 ... 41.06 40.47 39.86\n",
       "    lon        (time) float64 -150.7 -149.7 -148.7 ... -129.7 -130.0 -130.3\n",
       "    height     (time) float64 896.8 896.7 903.3 904.7 ... 999.7 1.005e+03 1e+03\n",
       "    pres       (time) float64 911.5 911.2 910.3 910.7 ... 908.4 906.9 907.8\n",
       "    ERA_cc     (time, level) float64 0.0 0.0 0.0 0.0 ... 0.05015 0.03235 0.0\n",
       "    ERA_z      (time, level) float64 4.802e+05 4.27e+05 ... 3.959e+03 1.846e+03\n",
       "    ERA_o3     (time, level) float64 4.243e-06 6.07e-06 ... 6.752e-08 6.972e-08\n",
       "    ERA_r      (time, level) float64 0.0005493 0.0005493 ... 91.84 89.13\n",
       "    ERA_clwc   (time, level) float64 0.0 0.0 0.0 0.0 ... 3.173e-06 1.615e-06 0.0\n",
       "    ERA_crwc   (time, level) float64 -1.164e-10 -1.164e-10 ... 1.012e-06\n",
       "    ERA_t      (time, level) float64 269.6 264.6 258.9 ... 286.6 288.1 289.9\n",
       "    ERA_u      (time, level) float64 -37.24 -27.47 -25.1 ... -4.503 -3.443\n",
       "    ERA_v      (time, level) float64 2.98 -1.143 -4.227 ... -19.47 -18.99 -17.62\n",
       "    ERA_w      (time, level) float64 0.001171 0.0007963 ... 0.01002 -0.004291\n",
       "    ERA_q      (time, level) float64 -4.343e-06 -9.047e-06 ... 0.01014 0.01077\n",
       "    ERA_MR     (time, level) float64 -4.343e-06 -9.047e-06 ... 0.01024 0.01088\n",
       "    ERA_dtdx   (time, level) float64 -7.253e-06 -1.866e-07 ... 7.295e-07\n",
       "    ERA_dtdy   (time, level) float64 3.085e-06 2.249e-06 ... -3.206e-06\n",
       "    ERA_dqdx   (time, level) float64 -6.537e-13 -1.581e-13 ... -4.108e-09\n",
       "    ERA_dqdy   (time, level) float64 2.738e-13 2.964e-12 ... -3.87e-10 1.454e-09\n",
       "    ERA_dzdx   (time, level) float64 -0.0005261 0.0003673 ... -0.001486\n",
       "    ERA_dzdy   (time, level) float64 0.003512 0.002478 ... 0.0006915 0.0007208\n",
       "    ERA_dudx   (time, level) float64 -1.406e-05 9.978e-06 ... -1.266e-06\n",
       "    ERA_dudy   (time, level) float64 8.347e-06 -1.266e-06 ... 3.774e-06\n",
       "    ERA_dvdx   (time, level) float64 -5.037e-06 -5.689e-06 ... -3.06e-06\n",
       "    ERA_dvdy   (time, level) float64 -1.046e-05 -1.177e-05 ... 4.564e-06\n",
       "    ERA_dMRdx  (time, level) float64 -6.537e-13 -1.581e-13 ... -4.197e-09\n",
       "    ERA_dMRdy  (time, level) float64 2.738e-13 2.964e-12 ... 1.485e-09\n",
       "    ERA_LTS    (time) float64 21.24 21.25 21.21 21.03 ... 22.39 22.34 22.38\n",
       "    ERA_EIS    (time) float64 6.41 6.524 6.599 6.502 ... 7.981 7.865 8.0 7.824\n",
       "Attributes:\n",
       "    Title:              CSET Unified Trajectory Product\n",
       "    institution:        Department of Atmospheric Sciences, University of Was...\n",
       "    contact:            jkcm@uw.edu\n",
       "    Creation Time:      2021-10-22 01:22:36.906634\n",
       "    trajectory_setup:   Trajectories were run isobarically from an initializa...\n",
       "    HYSPLIT_params:     Trajectories run using HYSPLIT (Hybrid Single Particl...\n",
       "    HYSPLIT_reference:  Stein, A.F., Draxler, R.R, Rolph, G.D., Stunder, B.J....\n",
       "    ERA_params:         ERA5 data acquired from ECWMF Copernicus at cds.clima...\n",
       "    ERA_reference:      Copernicus Climate Change Service (C3S) (2017): ERA5:..."
      ]
     },
     "execution_count": 43,
     "metadata": {},
     "output_type": "execute_result"
    }
   ],
   "source": [
    "ds"
   ]
  },
  {
   "cell_type": "code",
   "execution_count": 44,
   "id": "a2d9a0f6-fc05-4ce4-9aa9-dd6209109242",
   "metadata": {},
   "outputs": [
    {
     "ename": "AttributeError",
     "evalue": "module 'matplotlib.pyplot' has no attribute 'yaxis'",
     "output_type": "error",
     "traceback": [
      "\u001b[0;31m---------------------------------------------------------------------------\u001b[0m",
      "\u001b[0;31mAttributeError\u001b[0m                            Traceback (most recent call last)",
      "\u001b[0;32m<ipython-input-44-32ecafa88e0a>\u001b[0m in \u001b[0;36m<module>\u001b[0;34m\u001b[0m\n\u001b[1;32m      1\u001b[0m \u001b[0mds\u001b[0m\u001b[0;34m.\u001b[0m\u001b[0mERA_r\u001b[0m\u001b[0;34m.\u001b[0m\u001b[0mplot\u001b[0m\u001b[0;34m(\u001b[0m\u001b[0mx\u001b[0m\u001b[0;34m=\u001b[0m\u001b[0;34m'time'\u001b[0m\u001b[0;34m)\u001b[0m\u001b[0;34m\u001b[0m\u001b[0;34m\u001b[0m\u001b[0m\n\u001b[0;32m----> 2\u001b[0;31m \u001b[0mplt\u001b[0m\u001b[0;34m.\u001b[0m\u001b[0myaxis\u001b[0m\u001b[0;34m.\u001b[0m\u001b[0minvert\u001b[0m\u001b[0;34m(\u001b[0m\u001b[0;34m)\u001b[0m\u001b[0;34m\u001b[0m\u001b[0;34m\u001b[0m\u001b[0m\n\u001b[0m",
      "\u001b[0;31mAttributeError\u001b[0m: module 'matplotlib.pyplot' has no attribute 'yaxis'"
     ]
    },
    {
     "data": {
      "image/png": "[encoded data removed]",
      "text/plain": [
       "<Figure size 600x400 with 2 Axes>"
      ]
     },
     "metadata": {
      "needs_background": "light"
     },
     "output_type": "display_data"
    }
   ],
   "source": [
    "ds.ERA_r.plot(x='time')\n",
    "plt.yaxis.invert()"
   ]
  },
  {
   "cell_type": "code",
   "execution_count": null,
   "id": "71828a02-4945-4757-8ca6-a6afdc068ca6",
   "metadata": {},
   "outputs": [],
   "source": []
  }
 ],
 "metadata": {
  "kernelspec": {
   "display_name": "Python [conda env:classified-cset]",
   "language": "python",
   "name": "conda-env-classified-cset-py"
  },
  "language_info": {
   "codemirror_mode": {
    "name": "ipython",
    "version": 3
   },
   "file_extension": ".py",
   "mimetype": "text/x-python",
   "name": "python",
   "nbconvert_exporter": "python",
   "pygments_lexer": "ipython3",
   "version": "3.7.6"
  }
 },
 "nbformat": 4,
 "nbformat_minor": 5
}
