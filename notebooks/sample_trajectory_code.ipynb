{
 "cells": [
  {
   "cell_type": "code",
   "execution_count": 10,
   "id": "e1427314-deab-47d8-a9d0-105483ead3b1",
   "metadata": {},
   "outputs": [
    {
     "name": "stdout",
     "output_type": "stream",
     "text": [
      "The autoreload extension is already loaded. To reload it, use:\n",
      "  %reload_ext autoreload\n"
     ]
    }
   ],
   "source": [
    "import os\n",
    "import sys\n",
    "sys.path.insert(0, os.path.abspath('..'))\n",
    "from uwtrajectory import unified_traj_data as utd\n",
    "%load_ext autoreload\n",
    "%autoreload 2"
   ]
  },
  {
   "cell_type": "code",
   "execution_count": 11,
   "id": "cdd4e10d-e436-4b78-bf66-5ba707145fd0",
   "metadata": {},
   "outputs": [
    {
     "data": {
      "text/plain": [
       "<xarray.Dataset>\n",
       "Dimensions:  (time: 49)\n",
       "Coordinates:\n",
       "  * time     (time) datetime64[ns] 2015-07-15T16:00:00 ... 2015-07-17T16:00:00\n",
       "Data variables:\n",
       "    fhour    (time) int64 2 1 0 1 2 3 2 1 0 1 2 3 2 ... 1 0 1 2 3 2 1 0 1 2 3 2\n",
       "    lat      (time) float64 48.86 49.15 49.43 49.69 ... 41.64 41.06 40.47 39.86\n",
       "    lon      (time) float64 -150.7 -149.7 -148.7 -147.7 ... -129.7 -130.0 -130.3\n",
       "    height   (time) float64 896.8 896.7 903.3 904.7 ... 999.7 1.005e+03 1e+03\n",
       "    pres     (time) float64 911.5 911.2 910.3 910.7 ... 909.0 908.4 906.9 907.8\n",
       "Attributes:\n",
       "    Title:              CSET Unified Trajectory Product\n",
       "    institution:        Department of Atmospheric Sciences, University of Was...\n",
       "    contact:            jkcm@uw.edu\n",
       "    Creation Time:      2021-10-22 00:58:46.941954\n",
       "    trajectory_setup:   Trajectories were run isobarically from an initializa...\n",
       "    HYSPLIT_params:     Trajectories run using HYSPLIT (Hybrid Single Particl...\n",
       "    HYSPLIT_reference:  Stein, A.F., Draxler, R.R, Rolph, G.D., Stunder, B.J...."
      ]
     },
     "execution_count": 11,
     "metadata": {},
     "output_type": "execute_result"
    }
   ],
   "source": [
    "sample_trajectory_file = 'sample_trajectory' #happens to be in this directory\n",
    "ds = utd.xarray_from_tdumpfile(sample_trajectory_file)\n",
    "ds #note that "
   ]
  },
  {
   "cell_type": "markdown",
   "id": "13ff0992-3a59-4840-821e-a65f81214c21",
   "metadata": {},
   "source": [
    "### Note that the above is just a quick way to get a trajectory file for a demo. all ds has to contain for the rest of the code to work is a \"time\" dimension and two variables: lat and lon."
   ]
  },
  {
   "cell_type": "code",
   "execution_count": 23,
   "id": "d9bc309d-d758-4dac-945a-6d40e7e5db1f",
   "metadata": {},
   "outputs": [
    {
     "name": "stdout",
     "output_type": "stream",
     "text": [
      "['ERA', 'ERA_sfc', 'ERA_ens', 'MODIS_pbl', 'MERRA', 'SSMI', 'CERES', 'AMSR_Tb', 'AMSR']\n"
     ]
    }
   ],
   "source": [
    "all_datasets = utd.all_datasets\n",
    "print(all_datasets)\n",
    "datasets_to_include = ['ERA', 'ERA_sfc'] #just doing these for now"
   ]
  },
  {
   "cell_type": "code",
   "execution_count": 28,
   "id": "7cbcb0a0-945b-4285-881c-fa7a8b59bcd5",
   "metadata": {},
   "outputs": [
    {
     "name": "stdout",
     "output_type": "stream",
     "text": [
      "adding ERA...\n",
      "prepping data...\n",
      "creating gradient in MR...\n",
      "done\n",
      "working on cc...\n",
      "100.00%      ETA 18:09:55      time left: 0 seconds        \n",
      "working on z...\n",
      "100.00%      ETA 18:09:56      time left: 0 seconds        \n",
      "working on o3...\n",
      "100.00%      ETA 18:09:56      time left: 0 seconds        \n",
      "working on r...\n",
      "100.00%      ETA 18:09:56      time left: 0 seconds        \n",
      "working on clwc...\n",
      "100.00%      ETA 18:09:57      time left: 0 seconds        \n",
      "working on crwc...\n",
      "100.00%      ETA 18:09:57      time left: 0 seconds        \n",
      "working on t...\n",
      "100.00%      ETA 18:09:58      time left: 0 seconds        \n",
      "working on u...\n",
      "100.00%      ETA 18:09:58      time left: 0 seconds        \n",
      "working on v...\n",
      "100.00%      ETA 18:09:59      time left: 0 seconds        \n",
      "working on w...\n",
      "100.00%      ETA 18:09:59      time left: 0 seconds        \n",
      "working on q...\n",
      "100.00%      ETA 18:09:59      time left: 0 seconds           \n",
      "working on MR...\n",
      "100.00%      ETA 18:10:00      time left: 0 seconds        \n",
      "working on dtdx...\n",
      "100.00%      ETA 18:10:00      time left: 0 seconds        \n",
      "working on dtdy...\n",
      "100.00%      ETA 18:10:00      time left: 0 seconds        \n",
      "working on dqdx...\n",
      "100.00%      ETA 18:10:01      time left: 0 seconds             \n",
      "working on dqdy...\n",
      "100.00%      ETA 18:10:01      time left: 0 seconds           \n",
      "working on dzdx...\n",
      "100.00%      ETA 18:10:01      time left: 0 seconds         \n",
      "working on dzdy...\n",
      "100.00%      ETA 18:10:02      time left: 0 seconds             \n",
      "working on dudx...\n",
      "100.00%      ETA 18:10:02      time left: 0 seconds          \n",
      "working on dudy...\n",
      "100.00%      ETA 18:10:02      time left: 0 seconds              \n",
      "working on dvdx...\n",
      "100.00%      ETA 18:10:03      time left: 0 seconds           \n",
      "working on dvdy...\n",
      "100.00%      ETA 18:10:03      time left: 0 seconds         \n",
      "working on dMRdx...\n",
      "100.00%      ETA 18:10:03      time left: 0 seconds        \n",
      "working on dMRdy...\n",
      "100.00%      ETA 18:10:04      time left: 0 seconds        \n",
      "adding advection...\n",
      "adding ERA sfc data...\n"
     ]
    }
   ],
   "source": [
    "ds = utd.make_trajectory(ds, skip=[i for i in all_datasets if not i in datasets_to_include])"
   ]
  },
  {
   "cell_type": "code",
   "execution_count": 29,
   "id": "a29d2635-0a6f-47dd-8be3-02d58a8f2503",
   "metadata": {},
   "outputs": [
    {
     "data": {
      "text/plain": [
       "<xarray.Dataset>\n",
       "Dimensions:     (level: 37, time: 49)\n",
       "Coordinates:\n",
       "  * time        (time) datetime64[ns] 2015-07-15T16:00:00 ... 2015-07-17T16:00:00\n",
       "  * level       (level) float64 1.0 2.0 3.0 5.0 7.0 ... 925.0 950.0 975.0 1e+03\n",
       "Data variables:\n",
       "    fhour       (time) int64 2 1 0 1 2 3 2 1 0 1 2 3 ... 1 0 1 2 3 2 1 0 1 2 3 2\n",
       "    lat         (time) float64 48.86 49.15 49.43 49.69 ... 41.06 40.47 39.86\n",
       "    lon         (time) float64 -150.7 -149.7 -148.7 ... -129.7 -130.0 -130.3\n",
       "    height      (time) float64 896.8 896.7 903.3 904.7 ... 999.7 1.005e+03 1e+03\n",
       "    pres        (time) float64 911.5 911.2 910.3 910.7 ... 908.4 906.9 907.8\n",
       "    traj_u      (time) float64 19.56 19.66 19.81 19.57 ... -7.285 -7.869 -8.175\n",
       "    traj_v      (time) float64 8.959 8.774 8.327 7.484 ... -18.08 -18.56 -18.68\n",
       "    traj_hdg    (time) float64 65.39 65.95 67.2 69.07 ... -158.1 -157.0 -156.4\n",
       "    traj_spd    (time) float64 21.51 21.53 21.49 20.95 ... 19.49 20.16 20.39\n",
       "    ERA_cc      (time, level) float64 0.0 0.0 0.0 0.0 ... 0.05015 0.03235 0.0\n",
       "    ERA_z       (time, level) float64 4.802e+05 4.27e+05 ... 3.959e+03 1.846e+03\n",
       "    ERA_o3      (time, level) float64 4.243e-06 6.07e-06 ... 6.752e-08 6.972e-08\n",
       "    ERA_r       (time, level) float64 0.0005493 0.0005493 ... 91.84 89.13\n",
       "    ERA_clwc    (time, level) float64 0.0 0.0 0.0 ... 3.173e-06 1.615e-06 0.0\n",
       "    ERA_crwc    (time, level) float64 -1.164e-10 -1.164e-10 ... 1.012e-06\n",
       "    ERA_t       (time, level) float64 269.6 264.6 258.9 ... 286.6 288.1 289.9\n",
       "    ERA_u       (time, level) float64 -37.24 -27.47 -25.1 ... -4.503 -3.443\n",
       "    ERA_v       (time, level) float64 2.98 -1.143 -4.227 ... -18.99 -17.62\n",
       "    ERA_w       (time, level) float64 0.001171 0.0007963 ... 0.01002 -0.004291\n",
       "    ERA_q       (time, level) float64 -4.343e-06 -9.047e-06 ... 0.01014 0.01077\n",
       "    ERA_MR      (time, level) float64 -4.343e-06 -9.047e-06 ... 0.01024 0.01088\n",
       "    ERA_dtdx    (time, level) float64 -7.253e-06 -1.866e-07 ... 7.295e-07\n",
       "    ERA_dtdy    (time, level) float64 3.085e-06 2.249e-06 ... -3.206e-06\n",
       "    ERA_dqdx    (time, level) float64 -6.537e-13 -1.581e-13 ... -4.108e-09\n",
       "    ERA_dqdy    (time, level) float64 2.738e-13 2.964e-12 ... 1.454e-09\n",
       "    ERA_dzdx    (time, level) float64 -0.0005261 0.0003673 ... -0.001486\n",
       "    ERA_dzdy    (time, level) float64 0.003512 0.002478 ... 0.0006915 0.0007208\n",
       "    ERA_dudx    (time, level) float64 -1.406e-05 9.978e-06 ... -1.266e-06\n",
       "    ERA_dudy    (time, level) float64 8.347e-06 -1.266e-06 ... 3.774e-06\n",
       "    ERA_dvdx    (time, level) float64 -5.037e-06 -5.689e-06 ... -3.06e-06\n",
       "    ERA_dvdy    (time, level) float64 -1.046e-05 -1.177e-05 ... 4.564e-06\n",
       "    ERA_dMRdx   (time, level) float64 -6.537e-13 -1.581e-13 ... -4.197e-09\n",
       "    ERA_dMRdy   (time, level) float64 2.738e-13 2.964e-12 ... 1.485e-09\n",
       "    ERA_LTS     (time) float64 21.24 21.25 21.21 21.03 ... 22.39 22.34 22.38\n",
       "    ERA_EIS     (time) float64 6.41 6.524 6.599 6.502 ... 7.981 7.865 8.0 7.824\n",
       "    ERA_T_adv   (time, level) float64 -0.0003935 1.395e-05 ... -5.95e-08\n",
       "    ERA_q_adv   (time, level) float64 -3.549e-11 2.251e-11 ... 1.09e-08 1.79e-08\n",
       "    ERA_MR_adv  (time, level) float64 -3.549e-11 2.251e-11 ... 1.829e-08\n",
       "    ERA_u10     (time) float64 7.324 6.814 6.228 5.875 ... -1.719 -2.081 -2.227\n",
       "    ERA_v10     (time) float64 7.98 7.88 7.987 8.134 ... -13.21 -13.3 -12.93\n",
       "    ERA_d2m     (time) float64 284.9 284.9 285.0 285.1 ... 289.1 289.2 289.5\n",
       "    ERA_t2m     (time) float64 285.5 285.5 285.7 285.8 ... 291.3 291.4 291.6\n",
       "    ERA_blh     (time) float64 582.7 576.0 574.0 578.9 ... 929.4 941.2 960.2\n",
       "    ERA_cbh     (time) float64 74.39 68.44 65.14 48.46 ... 367.3 400.7 414.1\n",
       "    ERA_cp      (time) float64 0.0001698 3.45e-05 ... 2.532e-05 1.744e-05\n",
       "    ERA_crr     (time) float64 2.226e-05 7.54e-06 0.0 ... 4.15e-06 3.435e-06\n",
       "    ERA_hcc     (time) float64 0.9992 0.9833 0.9854 0.972 ... 0.0 0.0 0.0 0.0\n",
       "    ERA_ilspf   (time) float64 1.0 1.0 1.0 1.0 ... 0.8853 0.8278 0.7622 0.7777\n",
       "    ERA_lsp     (time) float64 0.0005166 0.0005136 ... 1.179e-05 9.398e-06\n",
       "    ERA_lspf    (time) float64 3.6e+03 3.6e+03 3.6e+03 ... 3.037e+03 3.094e+03\n",
       "    ERA_lsrr    (time) float64 0.0001028 7.982e-05 ... 3.193e-06 1.64e-06\n",
       "    ERA_lcc     (time) float64 1.0 1.0 1.0 0.9998 ... 0.95 0.8991 0.9544 0.9356\n",
       "    ERA_mcpr    (time) float64 4.717e-05 9.585e-06 ... 7.037e-06 4.843e-06\n",
       "    ERA_mlspr   (time) float64 0.0001435 0.0001426 ... 3.28e-06 2.616e-06\n",
       "    ERA_mcc     (time) float64 0.7373 0.7083 0.7293 0.7644 ... 0.0 0.0 0.0 0.0\n",
       "    ERA_sst     (time) float64 284.2 284.4 284.7 285.0 ... 291.3 291.5 291.6\n",
       "    ERA_slhf    (time) float64 8.825e+04 6.971e+04 ... -2.926e+05 -2.667e+05\n",
       "    ERA_sp      (time) float64 1.014e+05 1.015e+05 ... 1.022e+05 1.022e+05\n",
       "    ERA_sshf    (time) float64 8.029e+04 6.768e+04 5.488e+04 ... 2.806e+03 966.1\n",
       "    ERA_tisr    (time) float64 8.27e+05 1.635e+06 ... 8.82e+05 1.722e+06\n",
       "    ERA_tcc     (time) float64 1.0 1.0 1.0 1.0 1.0 ... 0.95 0.8991 0.9544 0.9356\n",
       "    ERA_tclw    (time) float64 0.298 0.4027 0.4467 ... 0.0657 0.07076 0.07019\n",
       "    ERA_tcrw    (time) float64 0.1143 0.09176 0.1011 ... 0.001035 0.00119\n",
       "    ERA_tcwv    (time) float64 39.68 39.41 39.28 39.32 ... 29.26 28.92 29.33\n",
       "    ERA_tp      (time) float64 0.0006864 0.0005481 ... 3.713e-05 2.665e-05\n",
       "Attributes:\n",
       "    Title:              CSET Unified Trajectory Product\n",
       "    institution:        Department of Atmospheric Sciences, University of Was...\n",
       "    contact:            jkcm@uw.edu\n",
       "    Creation Time:      2021-10-22 00:58:46.941954\n",
       "    trajectory_setup:   Trajectories were run isobarically from an initializa...\n",
       "    HYSPLIT_params:     Trajectories run using HYSPLIT (Hybrid Single Particl...\n",
       "    HYSPLIT_reference:  Stein, A.F., Draxler, R.R, Rolph, G.D., Stunder, B.J....\n",
       "    ERA_params:         ERA5 data acquired from ECWMF Copernicus at cds.clima...\n",
       "    ERA_reference:      Copernicus Climate Change Service (C3S) (2017): ERA5:..."
      ]
     },
     "execution_count": 29,
     "metadata": {},
     "output_type": "execute_result"
    }
   ],
   "source": [
    "ds"
   ]
  },
  {
   "cell_type": "code",
   "execution_count": null,
   "id": "a2d9a0f6-fc05-4ce4-9aa9-dd6209109242",
   "metadata": {},
   "outputs": [],
   "source": []
  }
 ],
 "metadata": {
  "kernelspec": {
   "display_name": "Python [conda env:classified-cset]",
   "language": "python",
   "name": "conda-env-classified-cset-py"
  },
  "language_info": {
   "codemirror_mode": {
    "name": "ipython",
    "version": 3
   },
   "file_extension": ".py",
   "mimetype": "text/x-python",
   "name": "python",
   "nbconvert_exporter": "python",
   "pygments_lexer": "ipython3",
   "version": "3.7.6"
  }
 },
 "nbformat": 4,
 "nbformat_minor": 5
}
